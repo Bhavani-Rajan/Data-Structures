{
 "cells": [
  {
   "cell_type": "code",
   "execution_count": 13,
   "metadata": {},
   "outputs": [],
   "source": [
    "\"\"\"Each ListNode holds a reference to its previous node\n",
    "as well as its next node in the List.\"\"\"\n",
    "\n",
    "class ListNode:\n",
    "\n",
    "    def __init__(self, value, prev=None, next=None):\n",
    "        self.value = value\n",
    "        self.prev = prev\n",
    "        self.next = next\n",
    "\n",
    "    \"\"\"Wrap the given value in a ListNode and insert it\n",
    "    after this node. Note that this node could already\n",
    "    have a next node it is point to.\"\"\"\n",
    "    def insert_after(self, value):\n",
    "        current_next = self.next\n",
    "        self.next = ListNode(value, self, current_next)\n",
    "        if current_next:\n",
    "            current_next.prev = self.next\n",
    "\n",
    "    \"\"\"Wrap the given value in a ListNode and insert it\n",
    "    before this node. Note that this node could already\n",
    "    have a previous node it is point to.\"\"\"\n",
    "    def insert_before(self, value):\n",
    "        current_prev = self.prev\n",
    "        self.prev = ListNode(value, current_prev, self)\n",
    "        if current_prev:\n",
    "            current_prev.next = self.prev\n",
    "\n",
    "    \"\"\"Rearranges this ListNode's previous and next pointers\n",
    "    accordingly, effectively deleting this ListNode.\"\"\"\n",
    "    def delete(self):\n",
    "        if self.prev:\n",
    "            self.prev.next = self.next\n",
    "        if self.next:\n",
    "            self.next.prev = self.prev\n",
    "\n"
   ]
  },
  {
   "cell_type": "code",
   "execution_count": 14,
   "metadata": {},
   "outputs": [],
   "source": [
    "\"\"\"Our doubly-linked list class. It holds references to\n",
    "the list's head and tail nodes.\"\"\"\n",
    "\n",
    "class DoublyLinkedList:\n",
    "    def __init__(self, node=None):\n",
    "        self.head = node\n",
    "        self.tail = node\n",
    "        self.length = 1 if node is not None else 0\n",
    "\n",
    "    def __len__(self):\n",
    "        return self.length\n",
    "\n",
    "    \"\"\"Wraps the given value in a ListNode and inserts it \n",
    "    as the new head of the list. Don't forget to handle \n",
    "    the old head node's previous pointer accordingly.\"\"\"\n",
    "    def add_to_head(self, value):\n",
    "        new_node = ListNode(value)\n",
    "        self.length += 1\n",
    "        if not self.head and not self.tail:\n",
    "            self.head = new_node\n",
    "            self.tail = new_node\n",
    "        else:\n",
    "            new_node.next = self.head\n",
    "            self.head.prev = new_node\n",
    "            self.head = new_node\n",
    "\n",
    "    \"\"\"Removes the List's current head node, making the\n",
    "    current head's next node the new head of the List.\n",
    "    Returns the value of the removed Node.\"\"\"\n",
    "    def remove_from_head(self):\n",
    "        value = self.head.value\n",
    "        self.delete(self.head)\n",
    "        return value\n",
    "\n",
    "    \"\"\"Wraps the given value in a ListNode and inserts it \n",
    "    as the new tail of the list. Don't forget to handle \n",
    "    the old tail node's next pointer accordingly.\"\"\"\n",
    "    def add_to_tail(self, value):\n",
    "        new_node = ListNode(value)\n",
    "        self.length += 1\n",
    "        if not self.head and not self.tail:\n",
    "            self.head = new_node\n",
    "            self.tail = new_node\n",
    "        else:\n",
    "            new_node.prev = self.tail\n",
    "            self.tail.next = new_node\n",
    "            self.tail = new_node\n",
    "\n",
    "    \"\"\"Removes the List's current tail node, making the \n",
    "    current tail's previous node the new tail of the List.\n",
    "    Returns the value of the removed Node.\"\"\"\n",
    "    def remove_from_tail(self):\n",
    "        value = self.tail.value\n",
    "        self.delete(self.tail)\n",
    "        return value\n",
    "\n",
    "    \"\"\"Removes the input node from its current spot in the \n",
    "    List and inserts it as the new head node of the List.\"\"\"\n",
    "    def move_to_front(self, node):\n",
    "        if node is self.head:\n",
    "            return\n",
    "        value = node.value\n",
    "        self.delete(node)\n",
    "        self.add_to_head(value)\n",
    "\n",
    "    \"\"\"Removes the input node from its current spot in the \n",
    "    List and inserts it as the new tail node of the List.\"\"\"\n",
    "    def move_to_end(self, node):\n",
    "        if node is self.tail:\n",
    "            return\n",
    "        value = node.value\n",
    "        self.delete(node)\n",
    "        self.add_to_tail(value)\n",
    "\n",
    "    \"\"\"Removes a node from the list and handles cases where\n",
    "    the node was the head or the tail\"\"\"\n",
    "    def delete(self, node):\n",
    "        # TODO: Catch errors if list is empty or node is not in list\n",
    "        # For now assumine node is in list\n",
    "        self.length -= 1\n",
    "        # if head and tail\n",
    "        if self.head is self.tail:\n",
    "            self.head = None\n",
    "            self.tail = None\n",
    "        # if head\n",
    "        elif node is self.head:\n",
    "            self.head = self.head.next\n",
    "            node.delete()\n",
    "\n",
    "        # if tail\n",
    "        elif node is self.tail:\n",
    "            self.tail = self.tail.prev\n",
    "            node.delete()\n",
    "        else:\n",
    "            # if regular node\n",
    "            node.delete()\n",
    "\n",
    "    \"\"\"Returns the highest value currently in the list\"\"\"\n",
    "    def get_max(self):\n",
    "        # Loop through all nodes, looking for biggest value\n",
    "        # TODO: Error checking\n",
    "        if not self.head:\n",
    "            return None\n",
    "        max_value = self.head.value\n",
    "        current = self.head\n",
    "        while current:\n",
    "            if current.value > max_value:\n",
    "                max_value = current.value\n",
    "            current = current.next\n",
    "\n",
    "        return max_value\n"
   ]
  },
  {
   "cell_type": "code",
   "execution_count": 15,
   "metadata": {},
   "outputs": [
    {
     "name": "stdout",
     "output_type": "stream",
     "text": [
      "78\n",
      "56\n",
      "3\n"
     ]
    }
   ],
   "source": [
    "# ld = ListNode(45)\n",
    "    # ld.insert_after(98)\n",
    "    # ld.insert_before(86)\n",
    "dld = DoublyLinkedList()\n",
    "dld.add_to_tail(78)\n",
    "dld.add_to_tail(56)\n",
    "dld.add_to_head(24)\n",
    "    # print(ld.next.value)\n",
    "    # print(ld.prev.value)\n",
    "print(dld.head.next.value)\n",
    "print(dld.tail.value)\n",
    "print(dld.length)"
   ]
  },
  {
   "cell_type": "code",
   "execution_count": 46,
   "metadata": {},
   "outputs": [],
   "source": [
    "#import DoublyLinkedList\n",
    "\n",
    "class Stack:\n",
    "    def __init__(self):\n",
    "        self.size = 0\n",
    "        # Why is our DLL a good choice to store our elements?\n",
    "        self.storage = DoublyLinkedList()\n",
    "\n",
    "    def push(self, value):\n",
    "        #adding to head is expensive for a singly linked list, but for doubly linked\n",
    "        #list it is an identical process\n",
    "        self.storage.add_to_tail(value)\n",
    "        self.size += 1 \n",
    "#         print(f\"added {self.storage.tail.value} to the stack's tail\")\n",
    "\n",
    "\n",
    "    def pop(self):\n",
    "        if (self.storage.tail is None):\n",
    "            return None\n",
    "        else:\n",
    "            self.storage.remove_from_tail()\n",
    "            self.size -= 1 \n",
    "\n",
    "    def len(self):\n",
    "        return self.size\n"
   ]
  },
  {
   "cell_type": "code",
   "execution_count": 7,
   "metadata": {},
   "outputs": [
    {
     "name": "stdout",
     "output_type": "stream",
     "text": [
      "added 20 to the stack's tail\n",
      "added 25 to the stack's tail\n",
      "added 26 to the stack's tail\n",
      "3\n",
      "26\n",
      "26 removed\n",
      "2\n",
      "25\n"
     ]
    }
   ],
   "source": [
    "s1 = Stack()\n",
    "s1.push(20)\n",
    "s1.push(25)\n",
    "s1.push(26)\n",
    "print(s1.len()) \n",
    "print(s1.storage.tail.value) \n",
    "s1.pop() \n",
    "print(s1.len()) \n",
    "print(s1.storage.tail.value)"
   ]
  },
  {
   "cell_type": "code",
   "execution_count": 66,
   "metadata": {},
   "outputs": [],
   "source": [
    "class Queue:\n",
    "    def __init__(self):\n",
    "        self.size = 0\n",
    "        # Why is our DLL a good choice to store our elements?\n",
    "        self.storage = DoublyLinkedList()\n",
    "\n",
    "    def enqueue(self, value):\n",
    "        self.storage.add_to_tail(value)\n",
    "        self.size += 1 \n",
    "#         print(f\"added {self.storage.tail.value} to queue's tail\")\n",
    "\n",
    "    def dequeue(self):\n",
    "        if (self.storage.head is None):\n",
    "            return None\n",
    "        else:\n",
    "            self.size -= 1\n",
    "            return self.storage.remove_from_head()\n",
    "             \n",
    "\n",
    "    def len(self):\n",
    "        return self.size\n"
   ]
  },
  {
   "cell_type": "code",
   "execution_count": 43,
   "metadata": {},
   "outputs": [],
   "source": [
    "q = Queue()"
   ]
  },
  {
   "cell_type": "code",
   "execution_count": 21,
   "metadata": {},
   "outputs": [
    {
     "name": "stdout",
     "output_type": "stream",
     "text": [
      "lenght of the Queue 0\n",
      "lenght of the Queue 1\n",
      "lenght of the Queue 2\n",
      "lenght of the Queue 9\n"
     ]
    }
   ],
   "source": [
    "\n",
    "print(\"lenght of the Queue\",q.len())\n",
    "q.enqueue(2)\n",
    "print(\"lenght of the Queue\",q.len())\n",
    "q.enqueue(4)\n",
    "print(\"lenght of the Queue\",q.len())\n",
    "q.enqueue(6)\n",
    "q.enqueue(8)\n",
    "q.enqueue(10)\n",
    "q.enqueue(12)\n",
    "q.enqueue(14)\n",
    "q.enqueue(16)\n",
    "q.enqueue(18)\n",
    "print(\"lenght of the Queue\",q.len())"
   ]
  },
  {
   "cell_type": "code",
   "execution_count": 48,
   "metadata": {},
   "outputs": [],
   "source": [
    "q = Queue()"
   ]
  },
  {
   "cell_type": "code",
   "execution_count": 49,
   "metadata": {},
   "outputs": [
    {
     "name": "stdout",
     "output_type": "stream",
     "text": [
      "None\n"
     ]
    }
   ],
   "source": [
    "print(q.dequeue())"
   ]
  },
  {
   "cell_type": "code",
   "execution_count": 51,
   "metadata": {},
   "outputs": [
    {
     "name": "stdout",
     "output_type": "stream",
     "text": [
      "0\n"
     ]
    }
   ],
   "source": [
    "print(q.len()) # 0"
   ]
  },
  {
   "cell_type": "code",
   "execution_count": 63,
   "metadata": {},
   "outputs": [
    {
     "name": "stderr",
     "output_type": "stream",
     "text": [
      "E\n",
      "======================================================================\n",
      "ERROR: /Users/bhavanirajan/Library/Jupyter/runtime/kernel-655d8f5d-013b-4138-94e2-ed78286ecc3a (unittest.loader._FailedTest)\n",
      "----------------------------------------------------------------------\n",
      "AttributeError: module '__main__' has no attribute '/Users/bhavanirajan/Library/Jupyter/runtime/kernel-655d8f5d-013b-4138-94e2-ed78286ecc3a'\n",
      "\n",
      "----------------------------------------------------------------------\n",
      "Ran 1 test in 0.003s\n",
      "\n",
      "FAILED (errors=1)\n"
     ]
    },
    {
     "ename": "SystemExit",
     "evalue": "True",
     "output_type": "error",
     "traceback": [
      "An exception has occurred, use %tb to see the full traceback.\n",
      "\u001b[0;31mSystemExit\u001b[0m\u001b[0;31m:\u001b[0m True\n"
     ]
    },
    {
     "name": "stderr",
     "output_type": "stream",
     "text": [
      "/Users/bhavanirajan/anaconda3/lib/python3.7/site-packages/IPython/core/interactiveshell.py:3334: UserWarning: To exit: use 'exit', 'quit', or Ctrl-D.\n",
      "  warn(\"To exit: use 'exit', 'quit', or Ctrl-D.\", stacklevel=1)\n"
     ]
    }
   ],
   "source": [
    "import unittest\n",
    "\n",
    "class QueueTests(unittest.TestCase):\n",
    "    def setUp(self):\n",
    "        self.q = Queue()\n",
    "\n",
    "    def test_len_returns_0_for_empty_queue(self):\n",
    "        self.assertEqual(self.q.len(), 0)\n",
    "    def test_len_returns_correct_length_after_enqueue(self):\n",
    "        self.assertEqual(self.q.len(), 0)\n",
    "        self.q.enqueue(2)\n",
    "        self.assertEqual(self.q.len(), 1)\n",
    "        self.q.enqueue(4)\n",
    "        self.assertEqual(self.q.len(), 2)\n",
    "        self.q.enqueue(6)\n",
    "        self.q.enqueue(8)\n",
    "        self.q.enqueue(10)\n",
    "        self.q.enqueue(12)\n",
    "        self.q.enqueue(14)\n",
    "        self.q.enqueue(16)\n",
    "        self.q.enqueue(18)\n",
    "        self.assertEqual(self.q.len(), 9)\n",
    "\n",
    "    def test_empty_dequeue(self):\n",
    "        self.assertIsNone(self.q.dequeue())\n",
    "        self.assertEqual(self.q.len(), 0)\n",
    "\n",
    "    def test_dequeue_respects_order(self):\n",
    "        self.q.enqueue(100)\n",
    "        self.q.enqueue(101)\n",
    "        self.q.enqueue(105)\n",
    "        self.assertEqual(self.q.dequeue(), 100)\n",
    "        self.assertEqual(self.q.len(), 2)\n",
    "        self.assertEqual(self.q.dequeue(), 101)\n",
    "        self.assertEqual(self.q.len(), 1)\n",
    "        self.assertEqual(self.q.dequeue(), 105)\n",
    "        self.assertEqual(self.q.len(), 0)\n",
    "        self.assertIsNone(self.q.dequeue())\n",
    "        self.assertEqual(self.q.len(), 0)\n",
    "\n",
    "if __name__ == '__main__':\n",
    "    unittest.main()"
   ]
  },
  {
   "cell_type": "code",
   "execution_count": 67,
   "metadata": {},
   "outputs": [],
   "source": [
    "q = Queue()\n",
    "q.enqueue(100)\n",
    "q.enqueue(101)\n",
    "q.enqueue(105)"
   ]
  },
  {
   "cell_type": "code",
   "execution_count": 68,
   "metadata": {},
   "outputs": [
    {
     "data": {
      "text/plain": [
       "100"
      ]
     },
     "execution_count": 68,
     "metadata": {},
     "output_type": "execute_result"
    }
   ],
   "source": [
    "q.dequeue()"
   ]
  },
  {
   "cell_type": "code",
   "execution_count": 69,
   "metadata": {},
   "outputs": [
    {
     "data": {
      "text/plain": [
       "2"
      ]
     },
     "execution_count": 69,
     "metadata": {},
     "output_type": "execute_result"
    }
   ],
   "source": [
    "q.len()"
   ]
  },
  {
   "cell_type": "code",
   "execution_count": 70,
   "metadata": {},
   "outputs": [
    {
     "data": {
      "text/plain": [
       "101"
      ]
     },
     "execution_count": 70,
     "metadata": {},
     "output_type": "execute_result"
    }
   ],
   "source": [
    "q.dequeue()"
   ]
  },
  {
   "cell_type": "code",
   "execution_count": 71,
   "metadata": {},
   "outputs": [
    {
     "data": {
      "text/plain": [
       "1"
      ]
     },
     "execution_count": 71,
     "metadata": {},
     "output_type": "execute_result"
    }
   ],
   "source": [
    "q.len()"
   ]
  },
  {
   "cell_type": "code",
   "execution_count": 72,
   "metadata": {},
   "outputs": [
    {
     "data": {
      "text/plain": [
       "105"
      ]
     },
     "execution_count": 72,
     "metadata": {},
     "output_type": "execute_result"
    }
   ],
   "source": [
    "q.dequeue()"
   ]
  },
  {
   "cell_type": "code",
   "execution_count": 73,
   "metadata": {},
   "outputs": [
    {
     "data": {
      "text/plain": [
       "0"
      ]
     },
     "execution_count": 73,
     "metadata": {},
     "output_type": "execute_result"
    }
   ],
   "source": [
    "q.len()"
   ]
  },
  {
   "cell_type": "code",
   "execution_count": 74,
   "metadata": {},
   "outputs": [],
   "source": [
    "q.dequeue()"
   ]
  },
  {
   "cell_type": "code",
   "execution_count": 75,
   "metadata": {},
   "outputs": [
    {
     "data": {
      "text/plain": [
       "0"
      ]
     },
     "execution_count": 75,
     "metadata": {},
     "output_type": "execute_result"
    }
   ],
   "source": [
    "q.len()"
   ]
  },
  {
   "cell_type": "code",
   "execution_count": null,
   "metadata": {},
   "outputs": [],
   "source": []
  }
 ],
 "metadata": {
  "kernelspec": {
   "display_name": "Python 3",
   "language": "python",
   "name": "python3"
  },
  "language_info": {
   "codemirror_mode": {
    "name": "ipython",
    "version": 3
   },
   "file_extension": ".py",
   "mimetype": "text/x-python",
   "name": "python",
   "nbconvert_exporter": "python",
   "pygments_lexer": "ipython3",
   "version": "3.7.4"
  }
 },
 "nbformat": 4,
 "nbformat_minor": 4
}
