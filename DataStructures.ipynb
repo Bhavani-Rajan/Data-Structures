{
 "cells": [
  {
   "cell_type": "code",
   "execution_count": 10,
   "metadata": {},
   "outputs": [],
   "source": [
    "\"\"\"Each ListNode holds a reference to its previous node\n",
    "as well as its next node in the List.\"\"\"\n",
    "\n",
    "class ListNode:\n",
    "\n",
    "    def __init__(self, value, prev=None, next=None):\n",
    "        self.value = value\n",
    "        self.prev = prev\n",
    "        self.next = next\n",
    "\n",
    "    \"\"\"Wrap the given value in a ListNode and insert it\n",
    "    after this node. Note that this node could already\n",
    "    have a next node it is point to.\"\"\"\n",
    "    def insert_after(self, value):\n",
    "        current_next = self.next\n",
    "        self.next = ListNode(value, self, current_next)\n",
    "        if current_next:\n",
    "            current_next.prev = self.next\n",
    "\n",
    "    \"\"\"Wrap the given value in a ListNode and insert it\n",
    "    before this node. Note that this node could already\n",
    "    have a previous node it is point to.\"\"\"\n",
    "    def insert_before(self, value):\n",
    "        current_prev = self.prev\n",
    "        self.prev = ListNode(value, current_prev, self)\n",
    "        if current_prev:\n",
    "            current_prev.next = self.prev\n",
    "\n",
    "    \"\"\"Rearranges this ListNode's previous and next pointers\n",
    "    accordingly, effectively deleting this ListNode.\"\"\"\n",
    "    def delete(self):\n",
    "        if self.prev:\n",
    "            self.prev.next = self.next\n",
    "        if self.next:\n",
    "            self.next.prev = self.prev\n",
    "\n"
   ]
  },
  {
   "cell_type": "code",
   "execution_count": 11,
   "metadata": {},
   "outputs": [],
   "source": [
    "\"\"\"Our doubly-linked list class. It holds references to\n",
    "the list's head and tail nodes.\"\"\"\n",
    "\n",
    "class DoublyLinkedList:\n",
    "    def __init__(self, node=None):\n",
    "        self.head = node\n",
    "        self.tail = node\n",
    "        self.length = 1 if node is not None else 0\n",
    "\n",
    "    def __len__(self):\n",
    "        return self.length\n",
    "\n",
    "    \"\"\"Wraps the given value in a ListNode and inserts it \n",
    "    as the new head of the list. Don't forget to handle \n",
    "    the old head node's previous pointer accordingly.\"\"\"\n",
    "    def add_to_head(self, value):\n",
    "        new_node = ListNode(value)\n",
    "        self.length += 1\n",
    "        if not self.head and not self.tail:\n",
    "            self.head = new_node\n",
    "            self.tail = new_node\n",
    "        else:\n",
    "            new_node.next = self.head\n",
    "            self.head.prev = new_node\n",
    "            self.head = new_node\n",
    "\n",
    "    \"\"\"Removes the List's current head node, making the\n",
    "    current head's next node the new head of the List.\n",
    "    Returns the value of the removed Node.\"\"\"\n",
    "    def remove_from_head(self):\n",
    "        value = self.head.value\n",
    "        self.delete(self.head)\n",
    "        return value\n",
    "\n",
    "    \"\"\"Wraps the given value in a ListNode and inserts it \n",
    "    as the new tail of the list. Don't forget to handle \n",
    "    the old tail node's next pointer accordingly.\"\"\"\n",
    "    def add_to_tail(self, value):\n",
    "        new_node = ListNode(value)\n",
    "        self.length += 1\n",
    "        if not self.head and not self.tail:\n",
    "            self.head = new_node\n",
    "            self.tail = new_node\n",
    "        else:\n",
    "            new_node.prev = self.tail\n",
    "            self.tail.next = new_node\n",
    "            self.tail = new_node\n",
    "\n",
    "    \"\"\"Removes the List's current tail node, making the \n",
    "    current tail's previous node the new tail of the List.\n",
    "    Returns the value of the removed Node.\"\"\"\n",
    "    def remove_from_tail(self):\n",
    "        value = self.tail.value\n",
    "        self.delete(self.tail)\n",
    "        return value\n",
    "\n",
    "    \"\"\"Removes the input node from its current spot in the \n",
    "    List and inserts it as the new head node of the List.\"\"\"\n",
    "    def move_to_front(self, node):\n",
    "        if node is self.head:\n",
    "            return\n",
    "        value = node.value\n",
    "        self.delete(node)\n",
    "        self.add_to_head(value)\n",
    "\n",
    "    \"\"\"Removes the input node from its current spot in the \n",
    "    List and inserts it as the new tail node of the List.\"\"\"\n",
    "    def move_to_end(self, node):\n",
    "        if node is self.tail:\n",
    "            return\n",
    "        value = node.value\n",
    "        self.delete(node)\n",
    "        self.add_to_tail(value)\n",
    "\n",
    "    \"\"\"Removes a node from the list and handles cases where\n",
    "    the node was the head or the tail\"\"\"\n",
    "    def delete(self, node):\n",
    "        # TODO: Catch errors if list is empty or node is not in list\n",
    "        # For now assumine node is in list\n",
    "        self.length -= 1\n",
    "        # if head and tail\n",
    "        if self.head is self.tail:\n",
    "            self.head = None\n",
    "            self.tail = None\n",
    "        # if head\n",
    "        elif node is self.head:\n",
    "            self.head = self.head.next\n",
    "            node.delete()\n",
    "\n",
    "        # if tail\n",
    "        elif node is self.tail:\n",
    "            self.tail = self.tail.prev\n",
    "            node.delete()\n",
    "        else:\n",
    "            # if regular node\n",
    "            node.delete()\n",
    "\n",
    "    \"\"\"Returns the highest value currently in the list\"\"\"\n",
    "    def get_max(self):\n",
    "        # Loop through all nodes, looking for biggest value\n",
    "        # TODO: Error checking\n",
    "        if not self.head:\n",
    "            return None\n",
    "        max_value = self.head.value\n",
    "        current = self.head\n",
    "        while current:\n",
    "            if current.value > max_value:\n",
    "                max_value = current.value\n",
    "            current = current.next\n",
    "\n",
    "        return max_value\n"
   ]
  },
  {
   "cell_type": "code",
   "execution_count": 15,
   "metadata": {},
   "outputs": [
    {
     "name": "stdout",
     "output_type": "stream",
     "text": [
      "78\n",
      "56\n",
      "3\n"
     ]
    }
   ],
   "source": [
    "# ld = ListNode(45)\n",
    "    # ld.insert_after(98)\n",
    "    # ld.insert_before(86)\n",
    "dld = DoublyLinkedList()\n",
    "dld.add_to_tail(78)\n",
    "dld.add_to_tail(56)\n",
    "dld.add_to_head(24)\n",
    "    # print(ld.next.value)\n",
    "    # print(ld.prev.value)\n",
    "print(dld.head.next.value)\n",
    "print(dld.tail.value)\n",
    "print(dld.length)"
   ]
  },
  {
   "cell_type": "code",
   "execution_count": 15,
   "metadata": {},
   "outputs": [],
   "source": [
    "#import DoublyLinkedList\n",
    "\n",
    "class Stack:\n",
    "    def __init__(self):\n",
    "        self.size = 0\n",
    "        # Why is our DLL a good choice to store our elements?\n",
    "        self.storage = DoublyLinkedList()\n",
    "\n",
    "    def push(self, value):\n",
    "        #adding to head is expensive for a singly linked list, but for doubly linked\n",
    "        #list it is an identical process\n",
    "        self.storage.add_to_tail(value)\n",
    "        self.size += 1 \n",
    "#         print(f\"added {self.storage.tail.value} to the stack's tail\")\n",
    "\n",
    "\n",
    "    def pop(self):\n",
    "        if (self.storage.tail is None):\n",
    "            return None\n",
    "        else:\n",
    "            self.size -= 1 \n",
    "            return self.storage.remove_from_tail()\n",
    "            \n",
    "\n",
    "    def len(self):\n",
    "        return self.size\n"
   ]
  },
  {
   "cell_type": "code",
   "execution_count": 7,
   "metadata": {},
   "outputs": [
    {
     "name": "stdout",
     "output_type": "stream",
     "text": [
      "added 20 to the stack's tail\n",
      "added 25 to the stack's tail\n",
      "added 26 to the stack's tail\n",
      "3\n",
      "26\n",
      "26 removed\n",
      "2\n",
      "25\n"
     ]
    }
   ],
   "source": [
    "s1 = Stack()\n",
    "s1.push(20)\n",
    "s1.push(25)\n",
    "s1.push(26)\n",
    "print(s1.len()) \n",
    "print(s1.storage.tail.value) \n",
    "s1.pop() \n",
    "print(s1.len()) \n",
    "print(s1.storage.tail.value)"
   ]
  },
  {
   "cell_type": "code",
   "execution_count": 16,
   "metadata": {},
   "outputs": [],
   "source": [
    "class Queue:\n",
    "    def __init__(self):\n",
    "        self.size = 0\n",
    "        # Why is our DLL a good choice to store our elements?\n",
    "        self.storage = DoublyLinkedList()\n",
    "\n",
    "    def enqueue(self, value):\n",
    "        self.storage.add_to_tail(value)\n",
    "        self.size += 1 \n",
    "#         print(f\"added {self.storage.tail.value} to queue's tail\")\n",
    "\n",
    "    def dequeue(self):\n",
    "        if (self.storage.head is None):\n",
    "            return None\n",
    "        else:\n",
    "            self.size -= 1\n",
    "            return self.storage.remove_from_head()\n",
    "             \n",
    "\n",
    "    def len(self):\n",
    "        return self.size\n"
   ]
  },
  {
   "cell_type": "code",
   "execution_count": 43,
   "metadata": {},
   "outputs": [],
   "source": [
    "q = Queue()"
   ]
  },
  {
   "cell_type": "code",
   "execution_count": 21,
   "metadata": {},
   "outputs": [
    {
     "name": "stdout",
     "output_type": "stream",
     "text": [
      "lenght of the Queue 0\n",
      "lenght of the Queue 1\n",
      "lenght of the Queue 2\n",
      "lenght of the Queue 9\n"
     ]
    }
   ],
   "source": [
    "\n",
    "print(\"lenght of the Queue\",q.len())\n",
    "q.enqueue(2)\n",
    "print(\"lenght of the Queue\",q.len())\n",
    "q.enqueue(4)\n",
    "print(\"lenght of the Queue\",q.len())\n",
    "q.enqueue(6)\n",
    "q.enqueue(8)\n",
    "q.enqueue(10)\n",
    "q.enqueue(12)\n",
    "q.enqueue(14)\n",
    "q.enqueue(16)\n",
    "q.enqueue(18)\n",
    "print(\"lenght of the Queue\",q.len())"
   ]
  },
  {
   "cell_type": "code",
   "execution_count": 48,
   "metadata": {},
   "outputs": [],
   "source": [
    "q = Queue()"
   ]
  },
  {
   "cell_type": "code",
   "execution_count": 49,
   "metadata": {},
   "outputs": [
    {
     "name": "stdout",
     "output_type": "stream",
     "text": [
      "None\n"
     ]
    }
   ],
   "source": [
    "print(q.dequeue())"
   ]
  },
  {
   "cell_type": "code",
   "execution_count": 51,
   "metadata": {},
   "outputs": [
    {
     "name": "stdout",
     "output_type": "stream",
     "text": [
      "0\n"
     ]
    }
   ],
   "source": [
    "print(q.len()) # 0"
   ]
  },
  {
   "cell_type": "code",
   "execution_count": null,
   "metadata": {},
   "outputs": [],
   "source": []
  },
  {
   "cell_type": "code",
   "execution_count": 76,
   "metadata": {},
   "outputs": [],
   "source": [
    "q = Queue()\n",
    "q.enqueue(100)\n",
    "q.enqueue(101)\n",
    "q.enqueue(105)"
   ]
  },
  {
   "cell_type": "code",
   "execution_count": 77,
   "metadata": {},
   "outputs": [
    {
     "name": "stdout",
     "output_type": "stream",
     "text": [
      "100\n",
      "2\n",
      "101\n",
      "1\n",
      "105\n",
      "0\n",
      "None\n",
      "0\n"
     ]
    }
   ],
   "source": [
    "print(q.dequeue()) #100\n",
    "print(q.len()) #2\n",
    "print(q.dequeue()) #101\n",
    "print(q.len()) #1\n",
    "print(q.dequeue()) #105\n",
    "print(q.len()) #0\n",
    "print(q.dequeue()) # None\n",
    "print(q.len()) #0"
   ]
  },
  {
   "cell_type": "code",
   "execution_count": 35,
   "metadata": {},
   "outputs": [],
   "source": [
    "d = {1:'a',2:'b',3:'c'}"
   ]
  },
  {
   "cell_type": "code",
   "execution_count": 36,
   "metadata": {},
   "outputs": [
    {
     "data": {
      "text/plain": [
       "dict_keys([1, 2, 3])"
      ]
     },
     "execution_count": 36,
     "metadata": {},
     "output_type": "execute_result"
    }
   ],
   "source": [
    "d.keys()"
   ]
  },
  {
   "cell_type": "code",
   "execution_count": 37,
   "metadata": {},
   "outputs": [
    {
     "data": {
      "text/plain": [
       "3"
      ]
     },
     "execution_count": 37,
     "metadata": {},
     "output_type": "execute_result"
    }
   ],
   "source": [
    "len(d)"
   ]
  },
  {
   "cell_type": "code",
   "execution_count": 38,
   "metadata": {},
   "outputs": [
    {
     "data": {
      "text/plain": [
       "dict_keys([1, 2, 3])"
      ]
     },
     "execution_count": 38,
     "metadata": {},
     "output_type": "execute_result"
    }
   ],
   "source": [
    "d.keys()"
   ]
  },
  {
   "cell_type": "code",
   "execution_count": 39,
   "metadata": {},
   "outputs": [
    {
     "data": {
      "text/plain": [
       "'b'"
      ]
     },
     "execution_count": 39,
     "metadata": {},
     "output_type": "execute_result"
    }
   ],
   "source": [
    "d.pop(2)"
   ]
  },
  {
   "cell_type": "code",
   "execution_count": 7,
   "metadata": {},
   "outputs": [],
   "source": [
    "class LRUCache:\n",
    "    \"\"\"\n",
    "    Our LRUCache class keeps track of the max number of nodes it\n",
    "    can hold, the current number of nodes it is holding, a doubly-\n",
    "    linked list that holds the key-value entries in the correct\n",
    "    order, as well as a storage dict that provides fast access\n",
    "    to every node stored in the cache.\n",
    "    \"\"\"\n",
    "    def __init__(self, limit=10):\n",
    "        self.limit = limit\n",
    "        self.order = DoublyLinkedList()\n",
    "        self.storage = {}\n",
    "\n",
    "\n",
    "    \"\"\"\n",
    "    Retrieves the value associated with the given key. Also\n",
    "    needs to move the key-value pair to the end of the order\n",
    "    such that the pair is considered most-recently used.\n",
    "    Returns the value associated with the key or None if the\n",
    "    key-value pair doesn't exist in the cache.\n",
    "    \"\"\"\n",
    "    def get(self, key):\n",
    "        if key in self.storage.keys():\n",
    "            self.re_order(key)\n",
    "            return self.storage[key]\n",
    "        else:\n",
    "            return None\n",
    "\n",
    "    \"\"\"\n",
    "    Adds the given key-value pair to the cache. The newly-\n",
    "    added pair should be considered the most-recently used\n",
    "    entry in the cache. If the cache is already at max capacity\n",
    "    before this entry is added, then the oldest entry in the\n",
    "    cache needs to be removed to make room. Additionally, in the\n",
    "    case that the key already exists in the cache, we simply\n",
    "    want to overwrite the old value associated with the key with\n",
    "    the newly-specified value.\n",
    "    \"\"\"\n",
    "    def set(self, key, value):\n",
    "        if key in self.storage.keys():\n",
    "            self.storage[key] = value\n",
    "            self.re_order(key)\n",
    "        else:\n",
    "            if (len(self.storage) == self.limit):\n",
    "                rm_from_storage = self.order.remove_from_tail()\n",
    "                self.storage.pop(rm_from_storage)\n",
    "            \n",
    "            self.storage[key] = value\n",
    "            self.order.add_to_head(key)\n",
    "            \n",
    "    \"\"\" Parses the linked list from head to the value and makes that as the head\"\"\"\n",
    "    def re_order(self, key):\n",
    "        i = 0\n",
    "        len_storage = len(self.storage)\n",
    "        node = self.order.head\n",
    "        while( i < len_storage):\n",
    "            if(node.value == key):\n",
    "                self.order.move_to_front(node)\n",
    "                i = len_storage\n",
    "            node = node.next\n",
    "            i += 1"
   ]
  },
  {
   "cell_type": "code",
   "execution_count": null,
   "metadata": {},
   "outputs": [],
   "source": []
  },
  {
   "cell_type": "code",
   "execution_count": 8,
   "metadata": {},
   "outputs": [
    {
     "name": "stdout",
     "output_type": "stream",
     "text": [
      "head val  4\n",
      "c\n",
      "head val  3\n",
      "{2: 'b', 3: 'c', 4: 'd'}\n",
      "None\n",
      "b\n",
      "{2: 'b', 3: 'c', 4: 'd'}\n",
      "head val  2\n"
     ]
    }
   ],
   "source": [
    "l = LRUCache(3)\n",
    "l.set(1,\"a\")\n",
    "l.set(2,\"b\")\n",
    "l.set(3,\"c\")\n",
    "l.set(4,\"d\")\n",
    "print(\"head val \",l.order.head.value)\n",
    "print(l.get(3))\n",
    "#     l.set(1,\"z\")\n",
    "\n",
    "print(\"head val \",l.order.head.value)\n",
    "print(l.storage)\n",
    "print(l.get(5))\n",
    "print(l.get(2))\n",
    "\n",
    "print(l.storage)\n",
    "print(\"head val \",l.order.head.value)"
   ]
  },
  {
   "cell_type": "code",
   "execution_count": 9,
   "metadata": {},
   "outputs": [],
   "source": [
    "# brian's code\n",
    "\n",
    "class LRUCache:\n",
    "    \"\"\"\n",
    "    Our LRUCache class keeps track of the max number of nodes it\n",
    "    can hold, the current number of nodes it is holding, a doubly-\n",
    "    linked list that holds the key-value entries in the correct\n",
    "    order, as well as a storage dict that provides fast access\n",
    "    to every node stored in the cache.\n",
    "    \"\"\"\n",
    "    def __init__(self, limit=10):\n",
    "        self.limit = limit\n",
    "        self.order = DoublyLinkedList()\n",
    "        self.storage = {}\n",
    "        self.size = 0\n",
    "\n",
    "\n",
    "    \"\"\"\n",
    "    Retrieves the value associated with the given key. Also\n",
    "    needs to move the key-value pair to the end of the order\n",
    "    such that the pair is considered most-recently used.\n",
    "    Returns the value associated with the key or None if the\n",
    "    key-value pair doesn't exist in the cache.\n",
    "    \"\"\"\n",
    "    def get(self, key):\n",
    "        if key in self.storage:\n",
    "            node = self.storage[key]\n",
    "            self.order.move_to_end(node)\n",
    "            return node.value[1]\n",
    "        else:\n",
    "            return None\n",
    "\n",
    "    \"\"\"\n",
    "    Adds the given key-value pair to the cache. The newly-\n",
    "    added pair should be considered the most-recently used\n",
    "    entry in the cache. If the cache is already at max capacity\n",
    "    before this entry is added, then the oldest entry in the\n",
    "    cache needs to be removed to make room. Additionally, in the\n",
    "    case that the key already exists in the cache, we simply\n",
    "    want to overwrite the old value associated with the key with\n",
    "    the newly-specified value.\n",
    "    \"\"\"\n",
    "    def set(self, key, value):\n",
    "        if key in self.storage:\n",
    "            node = self.storage[key]\n",
    "            node.value = (key, value)\n",
    "            self.order.move_to_end(node)\n",
    "            return\n",
    "        if self.size == self.limit:\n",
    "            del self.storage[self.order.head.value[0]]\n",
    "            self.order.remove_from_head()\n",
    "            self.size -= 1\n",
    "        self.order.add_to_tail((key, value))\n",
    "        self.storage[key] = self.order.tail\n",
    "        self.size += 1"
   ]
  },
  {
   "cell_type": "code",
   "execution_count": 14,
   "metadata": {},
   "outputs": [
    {
     "name": "stdout",
     "output_type": "stream",
     "text": [
      "tail val   (2, 'b')\n",
      "c\n",
      "tail val  (2, 'b')\n",
      "{2: <__main__.ListNode object at 0x10506cf90>, 3: <__main__.ListNode object at 0x105177810>, 4: <__main__.ListNode object at 0x105177690>}\n",
      "None\n",
      "b\n",
      "{2: <__main__.ListNode object at 0x10506cf90>, 3: <__main__.ListNode object at 0x105177810>, 4: <__main__.ListNode object at 0x105177690>}\n",
      "tail val  (4, 'd')\n"
     ]
    }
   ],
   "source": [
    "l = LRUCache(3)\n",
    "l.set(1,\"a\")\n",
    "l.set(2,\"b\")\n",
    "l.set(3,\"c\")\n",
    "l.set(4,\"d\")\n",
    "print(\"tail val  \",l.order.head.value)\n",
    "print(l.get(3))\n",
    "#     l.set(1,\"z\")\n",
    "\n",
    "print(\"tail val \",l.order.head.value)\n",
    "print(l.storage)\n",
    "print(l.get(5))\n",
    "print(l.get(2))\n",
    "\n",
    "print(l.storage)\n",
    "print(\"tail val \",l.order.head.value)"
   ]
  },
  {
   "cell_type": "markdown",
   "metadata": {},
   "source": [
    "## Binary Search Tree\n",
    "\n",
    "Insert:\n",
    "\n",
    "    check if empty\n",
    "    \n",
    "    if empty put node here/at root\n",
    "    else\n",
    "    if new < node.value\n",
    "        leftnode.insert value\n",
    "    if >= \n",
    "        rightnode.insertvalue\n",
    "       \n",
    "       \n",
    "get_max:\n",
    "\n",
    "    if there's a right:\n",
    "       get max on  right\n",
    "    else\n",
    "       return node.value\n",
    "\n",
    "find:\n",
    "\n",
    "    if node is none\n",
    "       return false\n",
    "    if node.value == findvalue\n",
    "        return true\n",
    "    else\n",
    "        if find <  node.value\n",
    "               find on  left node\n",
    "        else\n",
    "               find on right node\n",
    "               \n",
    "Iterative BFT\n",
    "\n",
    "    creeate queue\n",
    "    add root to queue\n",
    "    while queue is not empty\n",
    "    node = pop head of queue\n",
    "    DO THE THING!!! (print)\n",
    "    add children of node to queue\n",
    "    \n",
    "Iterative DFT\n",
    "\n",
    "    create stack\n",
    "    add root to stack\n",
    "    while stack is not empty\n",
    "    node = pop top of stack\n",
    "    DO THE THING!!! (print)\n",
    "    add children of node to stack"
   ]
  },
  {
   "cell_type": "code",
   "execution_count": 17,
   "metadata": {},
   "outputs": [],
   "source": [
    "class BinarySearchTree:\n",
    "    \n",
    "    def __init__(self, value=None):\n",
    "        self.value = value\n",
    "        self.left = None\n",
    "        self.right = None\n",
    "        # print(f\"created new Tree with value: {self.value}\")\n",
    "\n",
    "    # Insert the given value into the tree\n",
    "    def insert(self, value):\n",
    "#         print(value)\n",
    "        if self.value is None:\n",
    "            self = BinarySearchTree(value)\n",
    "\n",
    "        elif value < self.value:\n",
    "            # print(f\"{value} is less than {self.value}\")\n",
    "            if self.left == None:\n",
    "                self.left = BinarySearchTree(value)\n",
    "            else:\n",
    "                self.left.insert(value)\n",
    "\n",
    "        elif value >= self.value:\n",
    "            # print(f\"value is greater than or == {self.value}\")\n",
    "            if self.right == None:\n",
    "                self.right = BinarySearchTree(value)\n",
    "            else:\n",
    "                self.right.insert(value)\n",
    "        \n",
    "            \n",
    "\n",
    "    # Return True if the tree contains the value\n",
    "    # False if it does not\n",
    "    def contains(self, target):\n",
    "        # find:\n",
    "\n",
    "        # if node is none\n",
    "        #     return false\n",
    "        \n",
    "        \n",
    "        if self == None:\n",
    "            return False\n",
    "\n",
    "        # if node.value == findvalue\n",
    "        #     return true\n",
    "        \n",
    "        elif self.value == target:\n",
    "            return True\n",
    "\n",
    "        # else\n",
    "        #     if find <  node.value\n",
    "        #         find on  left node\n",
    "        #     else\n",
    "        #         find on right node\n",
    "        else:\n",
    "            if target < self.value:\n",
    "                if self.left == None:\n",
    "                    return False\n",
    "                else:\n",
    "                    return self.left.contains(target)\n",
    "\n",
    "            elif target >= self.value:\n",
    "                if self.right == None:\n",
    "                    return False\n",
    "                else:\n",
    "                    return self.right.contains(target)\n",
    "        \n",
    "\n",
    "\n",
    "\n",
    "    # Return the maximum value found in the tree\n",
    "    def get_max(self):\n",
    "        if self.right == None:\n",
    "            return self.value    \n",
    "        return self.right.get_max() \n",
    "    \n",
    "    def get_min(self):\n",
    "        if self.left == None:\n",
    "            return self.value    \n",
    "        return self.left.get_min() \n",
    "     \n",
    "\n",
    "    # Call the function `cb` on the value of each node\n",
    "    # You may use a recursive or iterative approach\n",
    "    def for_each(self, cb):\n",
    "        if( self == None):\n",
    "            return\n",
    "        if self.left != None:\n",
    "            self.left.for_each(cb)\n",
    "        cb(self.value)\n",
    "        if self.right != None:\n",
    "            self.right.for_each(cb)\n",
    "\n",
    "            \n",
    "    def for_each_tree(self):\n",
    "        if( self == None):\n",
    "            return\n",
    "        if self.left != None:\n",
    "            self.left.for_each_tree()\n",
    "        print(self.value)\n",
    "        if self.right != None:\n",
    "            self.right.for_each_tree()\n",
    "\n",
    "            \n",
    "    \n",
    "            \n",
    "\n",
    " "
   ]
  },
  {
   "cell_type": "code",
   "execution_count": 19,
   "metadata": {},
   "outputs": [
    {
     "name": "stdout",
     "output_type": "stream",
     "text": [
      "True\n",
      "False\n",
      "2\n",
      "3\n",
      "5\n",
      "6\n",
      "7\n"
     ]
    }
   ],
   "source": [
    "\n",
    "bs = BinarySearchTree(5)\n",
    "bs.insert(2)\n",
    "bs.insert(3)\n",
    "bs.insert(7)\n",
    "bs.insert(6)\n",
    "print(bs.contains(7))\n",
    "print(bs.contains(4))\n",
    "# print(bs.get_max())\n",
    "# print(bs.get_min())\n",
    "bs.for_each_tree()\n"
   ]
  },
  {
   "cell_type": "code",
   "execution_count": null,
   "metadata": {},
   "outputs": [],
   "source": [
    "# from dll_queue import Queue\n",
    "# from dll_stack import Stack\n",
    "\n",
    "\n",
    "class BinarySearchTree:\n",
    "    def __init__(self, value):\n",
    "        self.value = value\n",
    "        self.left = None\n",
    "        self.right = None\n",
    "\n",
    "    # Insert the given value into the tree\n",
    "    def insert(self, value):\n",
    "        \n",
    "        pass\n",
    "\n",
    "    # Return True if the tree contains the value\n",
    "    # False if it does not\n",
    "    def contains(self, target):\n",
    "        pass\n",
    "\n",
    "    # Return the maximum value found in the tree\n",
    "    def get_max(self):\n",
    "        pass\n",
    "\n",
    "    # Call the function `cb` on the value of each node\n",
    "    # You may use a recursive or iterative approach\n",
    "    def for_each(self, cb):\n",
    "        pass\n",
    "\n",
    "    # DAY 2 Project -----------------------\n",
    "\n",
    "    # Print all the values in order from low to high\n",
    "    # Hint:  Use a recursive, depth first traversal\n",
    "    def in_order_print(self, node):\n",
    "        pass\n",
    "\n",
    "    # Print the value of every node, starting with the given node,\n",
    "    # in an iterative breadth first traversal\n",
    "    def bft_print(self, node):\n",
    "        pass\n",
    "\n",
    "    # Print the value of every node, starting with the given node,\n",
    "    # in an iterative depth first traversal\n",
    "    def dft_print(self, node):\n",
    "        pass\n",
    "\n",
    "    # STRETCH Goals -------------------------\n",
    "    # Note: Research may be required\n",
    "\n",
    "    # Print Pre-order recursive DFT\n",
    "    def pre_order_dft(self, node):\n",
    "        pass\n",
    "\n",
    "    # Print Post-order recursive DFT\n",
    "    def post_order_dft(self, node):\n",
    "        pass\n"
   ]
  }
 ],
 "metadata": {
  "kernelspec": {
   "display_name": "Python 3",
   "language": "python",
   "name": "python3"
  },
  "language_info": {
   "codemirror_mode": {
    "name": "ipython",
    "version": 3
   },
   "file_extension": ".py",
   "mimetype": "text/x-python",
   "name": "python",
   "nbconvert_exporter": "python",
   "pygments_lexer": "ipython3",
   "version": "3.7.4"
  }
 },
 "nbformat": 4,
 "nbformat_minor": 4
}
